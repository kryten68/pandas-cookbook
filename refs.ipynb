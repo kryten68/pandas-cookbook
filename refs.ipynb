{
 "metadata": {
  "language_info": {
   "codemirror_mode": {
    "name": "ipython",
    "version": 3
   },
   "file_extension": ".py",
   "mimetype": "text/x-python",
   "name": "python",
   "nbconvert_exporter": "python",
   "pygments_lexer": "ipython3",
   "version": "3.8.0-final"
  },
  "orig_nbformat": 2,
  "kernelspec": {
   "name": "python_defaultSpec_1597650554016",
   "display_name": "Python 3.8.0 64-bit"
  }
 },
 "nbformat": 4,
 "nbformat_minor": 2,
 "cells": [
  {
   "cell_type": "code",
   "execution_count": 28,
   "metadata": {},
   "outputs": [],
   "source": [
    "#INSTANTIATE PANDAS\n",
    "import pandas as pd"
   ]
  },
  {
   "cell_type": "code",
   "execution_count": 14,
   "metadata": {},
   "outputs": [],
   "source": [
    "#INITIALIZE COLUMNS:\n",
    "col1 = [1,2,2,2,1,None,2,None,None,None,None,None,None,None,8,9,10]\n",
    "col2 = [10,21,22,22,None,None,2,None,None,None,None,None,None,None,81,92,102]"
   ]
  },
  {
   "cell_type": "code",
   "execution_count": 24,
   "metadata": {
    "tags": []
   },
   "outputs": [],
   "source": [
    "# CREATE DATAFRAME WITH THESE COLUMNS\n",
    "df = pd.DataFrame({\"first\": col1, \"second\": col2})\n",
    "df"
   ]
  }
 ]
}