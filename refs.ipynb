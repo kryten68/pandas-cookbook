{
 "metadata": {
  "language_info": {
   "codemirror_mode": {
    "name": "ipython",
    "version": 3
   },
   "file_extension": ".py",
   "mimetype": "text/x-python",
   "name": "python",
   "nbconvert_exporter": "python",
   "pygments_lexer": "ipython3",
   "version": "3.8.0-final"
  },
  "orig_nbformat": 2,
  "kernelspec": {
   "name": "python_defaultSpec_1597684637543",
   "display_name": "Python 3.8.0 64-bit"
  }
 },
 "nbformat": 4,
 "nbformat_minor": 2,
 "cells": [
  {
   "cell_type": "code",
   "execution_count": 80,
   "metadata": {},
   "outputs": [],
   "source": [
    "#INSTANTIATE PANDAS\n",
    "import pandas as pd"
   ]
  },
  {
   "cell_type": "code",
   "execution_count": 81,
   "metadata": {},
   "outputs": [],
   "source": [
    "#INITIALIZE COLUMNS:\n",
    "col1 = [1,2,2,2,1,None,2,None,None,None,None,None,None,None,8,9,10]\n",
    "col2 = [10,21,22,22,None,None,2,None,None,None,None,None,None,None,81,92,102]\n",
    "col3 = [\"log\",\"text\",\"log\",\"log\",None,None,2,None,None,\"text\",\"text\",\"log\",\"log\",\"csv\",\"csv\",\"csv\",\"log\"]\n",
    "col4 = [\"blue\",\"green\",\"red\",\"red\",\"blue\",\"blue\",\"blue\",\"green\",None,None,\"blue\",\"red\",\"red\",\"red\",\"red\",\"red\",\"red\"]\n",
    "col5 = [10,21,22,22,None,None,2,None,None,None,None,None,None,None,81,92,102]"
   ]
  },
  {
   "cell_type": "code",
   "execution_count": 82,
   "metadata": {
    "tags": []
   },
   "outputs": [
    {
     "output_type": "execute_result",
     "data": {
      "text/plain": "    first  second third fourth  fifth\n0     1.0    10.0   log   blue   10.0\n1     2.0    21.0  text  green   21.0\n2     2.0    22.0   log    red   22.0\n3     2.0    22.0   log    red   22.0\n4     1.0     NaN  None   blue    NaN\n5     NaN     NaN  None   blue    NaN\n6     2.0     2.0     2   blue    2.0\n7     NaN     NaN  None  green    NaN\n8     NaN     NaN  None   None    NaN\n9     NaN     NaN  text   None    NaN\n10    NaN     NaN  text   blue    NaN\n11    NaN     NaN   log    red    NaN\n12    NaN     NaN   log    red    NaN\n13    NaN     NaN   csv    red    NaN\n14    8.0    81.0   csv    red   81.0\n15    9.0    92.0   csv    red   92.0\n16   10.0   102.0   log    red  102.0",
      "text/html": "<div>\n<style scoped>\n    .dataframe tbody tr th:only-of-type {\n        vertical-align: middle;\n    }\n\n    .dataframe tbody tr th {\n        vertical-align: top;\n    }\n\n    .dataframe thead th {\n        text-align: right;\n    }\n</style>\n<table border=\"1\" class=\"dataframe\">\n  <thead>\n    <tr style=\"text-align: right;\">\n      <th></th>\n      <th>first</th>\n      <th>second</th>\n      <th>third</th>\n      <th>fourth</th>\n      <th>fifth</th>\n    </tr>\n  </thead>\n  <tbody>\n    <tr>\n      <th>0</th>\n      <td>1.0</td>\n      <td>10.0</td>\n      <td>log</td>\n      <td>blue</td>\n      <td>10.0</td>\n    </tr>\n    <tr>\n      <th>1</th>\n      <td>2.0</td>\n      <td>21.0</td>\n      <td>text</td>\n      <td>green</td>\n      <td>21.0</td>\n    </tr>\n    <tr>\n      <th>2</th>\n      <td>2.0</td>\n      <td>22.0</td>\n      <td>log</td>\n      <td>red</td>\n      <td>22.0</td>\n    </tr>\n    <tr>\n      <th>3</th>\n      <td>2.0</td>\n      <td>22.0</td>\n      <td>log</td>\n      <td>red</td>\n      <td>22.0</td>\n    </tr>\n    <tr>\n      <th>4</th>\n      <td>1.0</td>\n      <td>NaN</td>\n      <td>None</td>\n      <td>blue</td>\n      <td>NaN</td>\n    </tr>\n    <tr>\n      <th>5</th>\n      <td>NaN</td>\n      <td>NaN</td>\n      <td>None</td>\n      <td>blue</td>\n      <td>NaN</td>\n    </tr>\n    <tr>\n      <th>6</th>\n      <td>2.0</td>\n      <td>2.0</td>\n      <td>2</td>\n      <td>blue</td>\n      <td>2.0</td>\n    </tr>\n    <tr>\n      <th>7</th>\n      <td>NaN</td>\n      <td>NaN</td>\n      <td>None</td>\n      <td>green</td>\n      <td>NaN</td>\n    </tr>\n    <tr>\n      <th>8</th>\n      <td>NaN</td>\n      <td>NaN</td>\n      <td>None</td>\n      <td>None</td>\n      <td>NaN</td>\n    </tr>\n    <tr>\n      <th>9</th>\n      <td>NaN</td>\n      <td>NaN</td>\n      <td>text</td>\n      <td>None</td>\n      <td>NaN</td>\n    </tr>\n    <tr>\n      <th>10</th>\n      <td>NaN</td>\n      <td>NaN</td>\n      <td>text</td>\n      <td>blue</td>\n      <td>NaN</td>\n    </tr>\n    <tr>\n      <th>11</th>\n      <td>NaN</td>\n      <td>NaN</td>\n      <td>log</td>\n      <td>red</td>\n      <td>NaN</td>\n    </tr>\n    <tr>\n      <th>12</th>\n      <td>NaN</td>\n      <td>NaN</td>\n      <td>log</td>\n      <td>red</td>\n      <td>NaN</td>\n    </tr>\n    <tr>\n      <th>13</th>\n      <td>NaN</td>\n      <td>NaN</td>\n      <td>csv</td>\n      <td>red</td>\n      <td>NaN</td>\n    </tr>\n    <tr>\n      <th>14</th>\n      <td>8.0</td>\n      <td>81.0</td>\n      <td>csv</td>\n      <td>red</td>\n      <td>81.0</td>\n    </tr>\n    <tr>\n      <th>15</th>\n      <td>9.0</td>\n      <td>92.0</td>\n      <td>csv</td>\n      <td>red</td>\n      <td>92.0</td>\n    </tr>\n    <tr>\n      <th>16</th>\n      <td>10.0</td>\n      <td>102.0</td>\n      <td>log</td>\n      <td>red</td>\n      <td>102.0</td>\n    </tr>\n  </tbody>\n</table>\n</div>"
     },
     "metadata": {},
     "execution_count": 82
    }
   ],
   "source": [
    "# CREATE DATAFRAME WITH THESE COLUMNS\n",
    "df = pd.DataFrame({\"first\": col1, \"second\": col2, \"third\": col3, \"fourth\": col4, \"fifth\": col5})\n",
    "df"
   ]
  },
  {
   "cell_type": "code",
   "execution_count": 83,
   "metadata": {},
   "outputs": [
    {
     "output_type": "execute_result",
     "data": {
      "text/plain": "   first  second third fourth  fifth\n0    1.0    10.0   log   blue   10.0\n1    2.0    21.0  text  green   21.0\n2    2.0    22.0   log    red   22.0\n3    2.0    22.0   log    red   22.0\n4    1.0     NaN  None   blue    NaN",
      "text/html": "<div>\n<style scoped>\n    .dataframe tbody tr th:only-of-type {\n        vertical-align: middle;\n    }\n\n    .dataframe tbody tr th {\n        vertical-align: top;\n    }\n\n    .dataframe thead th {\n        text-align: right;\n    }\n</style>\n<table border=\"1\" class=\"dataframe\">\n  <thead>\n    <tr style=\"text-align: right;\">\n      <th></th>\n      <th>first</th>\n      <th>second</th>\n      <th>third</th>\n      <th>fourth</th>\n      <th>fifth</th>\n    </tr>\n  </thead>\n  <tbody>\n    <tr>\n      <th>0</th>\n      <td>1.0</td>\n      <td>10.0</td>\n      <td>log</td>\n      <td>blue</td>\n      <td>10.0</td>\n    </tr>\n    <tr>\n      <th>1</th>\n      <td>2.0</td>\n      <td>21.0</td>\n      <td>text</td>\n      <td>green</td>\n      <td>21.0</td>\n    </tr>\n    <tr>\n      <th>2</th>\n      <td>2.0</td>\n      <td>22.0</td>\n      <td>log</td>\n      <td>red</td>\n      <td>22.0</td>\n    </tr>\n    <tr>\n      <th>3</th>\n      <td>2.0</td>\n      <td>22.0</td>\n      <td>log</td>\n      <td>red</td>\n      <td>22.0</td>\n    </tr>\n    <tr>\n      <th>4</th>\n      <td>1.0</td>\n      <td>NaN</td>\n      <td>None</td>\n      <td>blue</td>\n      <td>NaN</td>\n    </tr>\n  </tbody>\n</table>\n</div>"
     },
     "metadata": {},
     "execution_count": 83
    }
   ],
   "source": [
    "# SHOW FIRST 5 ROWS AND COLUMNS\n",
    "df.iloc[0:5,0:5]"
   ]
  },
  {
   "cell_type": "code",
   "execution_count": 84,
   "metadata": {},
   "outputs": [
    {
     "output_type": "execute_result",
     "data": {
      "text/plain": "    first  second third fourth  fifth   sixth\n0     1.0    10.0   log   blue   10.0   100.0\n1     2.0    21.0  text  green   21.0   441.0\n2     2.0    22.0   log    red   22.0   484.0\n3     2.0    22.0   log    red   22.0   484.0\n4     1.0     NaN  None   blue    NaN     NaN\n5     NaN     NaN  None   blue    NaN     NaN\n6     2.0     2.0     2   blue    2.0     4.0\n7     NaN     NaN  None  green    NaN     NaN\n8     NaN     NaN  None   None    NaN     NaN\n9     NaN     NaN  text   None    NaN     NaN\n10    NaN     NaN  text   blue    NaN     NaN\n11    NaN     NaN   log    red    NaN     NaN\n12    NaN     NaN   log    red    NaN     NaN\n13    NaN     NaN   csv    red    NaN     NaN\n14    8.0    81.0   csv    red   81.0  6561.0\n15    9.0    92.0   csv    red   92.0  8464.0",
      "text/html": "<div>\n<style scoped>\n    .dataframe tbody tr th:only-of-type {\n        vertical-align: middle;\n    }\n\n    .dataframe tbody tr th {\n        vertical-align: top;\n    }\n\n    .dataframe thead th {\n        text-align: right;\n    }\n</style>\n<table border=\"1\" class=\"dataframe\">\n  <thead>\n    <tr style=\"text-align: right;\">\n      <th></th>\n      <th>first</th>\n      <th>second</th>\n      <th>third</th>\n      <th>fourth</th>\n      <th>fifth</th>\n      <th>sixth</th>\n    </tr>\n  </thead>\n  <tbody>\n    <tr>\n      <th>0</th>\n      <td>1.0</td>\n      <td>10.0</td>\n      <td>log</td>\n      <td>blue</td>\n      <td>10.0</td>\n      <td>100.0</td>\n    </tr>\n    <tr>\n      <th>1</th>\n      <td>2.0</td>\n      <td>21.0</td>\n      <td>text</td>\n      <td>green</td>\n      <td>21.0</td>\n      <td>441.0</td>\n    </tr>\n    <tr>\n      <th>2</th>\n      <td>2.0</td>\n      <td>22.0</td>\n      <td>log</td>\n      <td>red</td>\n      <td>22.0</td>\n      <td>484.0</td>\n    </tr>\n    <tr>\n      <th>3</th>\n      <td>2.0</td>\n      <td>22.0</td>\n      <td>log</td>\n      <td>red</td>\n      <td>22.0</td>\n      <td>484.0</td>\n    </tr>\n    <tr>\n      <th>4</th>\n      <td>1.0</td>\n      <td>NaN</td>\n      <td>None</td>\n      <td>blue</td>\n      <td>NaN</td>\n      <td>NaN</td>\n    </tr>\n    <tr>\n      <th>5</th>\n      <td>NaN</td>\n      <td>NaN</td>\n      <td>None</td>\n      <td>blue</td>\n      <td>NaN</td>\n      <td>NaN</td>\n    </tr>\n    <tr>\n      <th>6</th>\n      <td>2.0</td>\n      <td>2.0</td>\n      <td>2</td>\n      <td>blue</td>\n      <td>2.0</td>\n      <td>4.0</td>\n    </tr>\n    <tr>\n      <th>7</th>\n      <td>NaN</td>\n      <td>NaN</td>\n      <td>None</td>\n      <td>green</td>\n      <td>NaN</td>\n      <td>NaN</td>\n    </tr>\n    <tr>\n      <th>8</th>\n      <td>NaN</td>\n      <td>NaN</td>\n      <td>None</td>\n      <td>None</td>\n      <td>NaN</td>\n      <td>NaN</td>\n    </tr>\n    <tr>\n      <th>9</th>\n      <td>NaN</td>\n      <td>NaN</td>\n      <td>text</td>\n      <td>None</td>\n      <td>NaN</td>\n      <td>NaN</td>\n    </tr>\n    <tr>\n      <th>10</th>\n      <td>NaN</td>\n      <td>NaN</td>\n      <td>text</td>\n      <td>blue</td>\n      <td>NaN</td>\n      <td>NaN</td>\n    </tr>\n    <tr>\n      <th>11</th>\n      <td>NaN</td>\n      <td>NaN</td>\n      <td>log</td>\n      <td>red</td>\n      <td>NaN</td>\n      <td>NaN</td>\n    </tr>\n    <tr>\n      <th>12</th>\n      <td>NaN</td>\n      <td>NaN</td>\n      <td>log</td>\n      <td>red</td>\n      <td>NaN</td>\n      <td>NaN</td>\n    </tr>\n    <tr>\n      <th>13</th>\n      <td>NaN</td>\n      <td>NaN</td>\n      <td>csv</td>\n      <td>red</td>\n      <td>NaN</td>\n      <td>NaN</td>\n    </tr>\n    <tr>\n      <th>14</th>\n      <td>8.0</td>\n      <td>81.0</td>\n      <td>csv</td>\n      <td>red</td>\n      <td>81.0</td>\n      <td>6561.0</td>\n    </tr>\n    <tr>\n      <th>15</th>\n      <td>9.0</td>\n      <td>92.0</td>\n      <td>csv</td>\n      <td>red</td>\n      <td>92.0</td>\n      <td>8464.0</td>\n    </tr>\n  </tbody>\n</table>\n</div>"
     },
     "metadata": {},
     "execution_count": 84
    }
   ],
   "source": [
    "# CREATE A NEW COLUMN\n",
    "df[\"sixth\"] = df[\"second\"]*df[\"fifth\"]\n",
    "df.iloc[0:16,0:6]"
   ]
  },
  {
   "cell_type": "code",
   "execution_count": 85,
   "metadata": {},
   "outputs": [
    {
     "output_type": "execute_result",
     "data": {
      "text/plain": "    first  second third fourth  fifth    sixth\n0     1.0    10.0   log   blue   10.0    100.0\n1     2.0    21.0  text  green   21.0    441.0\n2     2.0    22.0   log    red   22.0    484.0\n3     2.0    22.0   log    red   22.0    484.0\n4     1.0     NaN  None   blue    NaN      4.0\n5     1.0     NaN  None   blue    NaN      4.0\n6     2.0     2.0     2   blue    2.0      4.0\n7     2.0     NaN  None  green    NaN   6561.0\n8     2.0     NaN  None   None    NaN   6561.0\n9     2.0     NaN  text   None    NaN   6561.0\n10    2.0     NaN  text   blue    NaN   6561.0\n11    2.0     NaN   log    red    NaN   6561.0\n12    2.0     NaN   log    red    NaN   6561.0\n13    2.0     NaN   csv    red    NaN   6561.0\n14    8.0    81.0   csv    red   81.0   6561.0\n15    9.0    92.0   csv    red   92.0   8464.0\n16   10.0   102.0   log    red  102.0  10404.0",
      "text/html": "<div>\n<style scoped>\n    .dataframe tbody tr th:only-of-type {\n        vertical-align: middle;\n    }\n\n    .dataframe tbody tr th {\n        vertical-align: top;\n    }\n\n    .dataframe thead th {\n        text-align: right;\n    }\n</style>\n<table border=\"1\" class=\"dataframe\">\n  <thead>\n    <tr style=\"text-align: right;\">\n      <th></th>\n      <th>first</th>\n      <th>second</th>\n      <th>third</th>\n      <th>fourth</th>\n      <th>fifth</th>\n      <th>sixth</th>\n    </tr>\n  </thead>\n  <tbody>\n    <tr>\n      <th>0</th>\n      <td>1.0</td>\n      <td>10.0</td>\n      <td>log</td>\n      <td>blue</td>\n      <td>10.0</td>\n      <td>100.0</td>\n    </tr>\n    <tr>\n      <th>1</th>\n      <td>2.0</td>\n      <td>21.0</td>\n      <td>text</td>\n      <td>green</td>\n      <td>21.0</td>\n      <td>441.0</td>\n    </tr>\n    <tr>\n      <th>2</th>\n      <td>2.0</td>\n      <td>22.0</td>\n      <td>log</td>\n      <td>red</td>\n      <td>22.0</td>\n      <td>484.0</td>\n    </tr>\n    <tr>\n      <th>3</th>\n      <td>2.0</td>\n      <td>22.0</td>\n      <td>log</td>\n      <td>red</td>\n      <td>22.0</td>\n      <td>484.0</td>\n    </tr>\n    <tr>\n      <th>4</th>\n      <td>1.0</td>\n      <td>NaN</td>\n      <td>None</td>\n      <td>blue</td>\n      <td>NaN</td>\n      <td>4.0</td>\n    </tr>\n    <tr>\n      <th>5</th>\n      <td>1.0</td>\n      <td>NaN</td>\n      <td>None</td>\n      <td>blue</td>\n      <td>NaN</td>\n      <td>4.0</td>\n    </tr>\n    <tr>\n      <th>6</th>\n      <td>2.0</td>\n      <td>2.0</td>\n      <td>2</td>\n      <td>blue</td>\n      <td>2.0</td>\n      <td>4.0</td>\n    </tr>\n    <tr>\n      <th>7</th>\n      <td>2.0</td>\n      <td>NaN</td>\n      <td>None</td>\n      <td>green</td>\n      <td>NaN</td>\n      <td>6561.0</td>\n    </tr>\n    <tr>\n      <th>8</th>\n      <td>2.0</td>\n      <td>NaN</td>\n      <td>None</td>\n      <td>None</td>\n      <td>NaN</td>\n      <td>6561.0</td>\n    </tr>\n    <tr>\n      <th>9</th>\n      <td>2.0</td>\n      <td>NaN</td>\n      <td>text</td>\n      <td>None</td>\n      <td>NaN</td>\n      <td>6561.0</td>\n    </tr>\n    <tr>\n      <th>10</th>\n      <td>2.0</td>\n      <td>NaN</td>\n      <td>text</td>\n      <td>blue</td>\n      <td>NaN</td>\n      <td>6561.0</td>\n    </tr>\n    <tr>\n      <th>11</th>\n      <td>2.0</td>\n      <td>NaN</td>\n      <td>log</td>\n      <td>red</td>\n      <td>NaN</td>\n      <td>6561.0</td>\n    </tr>\n    <tr>\n      <th>12</th>\n      <td>2.0</td>\n      <td>NaN</td>\n      <td>log</td>\n      <td>red</td>\n      <td>NaN</td>\n      <td>6561.0</td>\n    </tr>\n    <tr>\n      <th>13</th>\n      <td>2.0</td>\n      <td>NaN</td>\n      <td>csv</td>\n      <td>red</td>\n      <td>NaN</td>\n      <td>6561.0</td>\n    </tr>\n    <tr>\n      <th>14</th>\n      <td>8.0</td>\n      <td>81.0</td>\n      <td>csv</td>\n      <td>red</td>\n      <td>81.0</td>\n      <td>6561.0</td>\n    </tr>\n    <tr>\n      <th>15</th>\n      <td>9.0</td>\n      <td>92.0</td>\n      <td>csv</td>\n      <td>red</td>\n      <td>92.0</td>\n      <td>8464.0</td>\n    </tr>\n    <tr>\n      <th>16</th>\n      <td>10.0</td>\n      <td>102.0</td>\n      <td>log</td>\n      <td>red</td>\n      <td>102.0</td>\n      <td>10404.0</td>\n    </tr>\n  </tbody>\n</table>\n</div>"
     },
     "metadata": {},
     "execution_count": 85
    }
   ],
   "source": [
    "# FILL COL 1 FORWARD\n",
    "df[\"first\"] = df[\"first\"].ffill()\n",
    "\n",
    "# FILL COL 6 BACKWARD\n",
    "df[\"sixth\"] = df[\"sixth\"].bfill()\n",
    "df"
   ]
  },
  {
   "cell_type": "code",
   "execution_count": 86,
   "metadata": {
    "tags": []
   },
   "outputs": [
    {
     "output_type": "execute_result",
     "data": {
      "text/plain": "    first  second third fourth  fifth    sixth\n0     1.0    10.0   log   blue   10.0    100.0\n1     2.0    21.0  text  green   21.0    441.0\n2     2.0    22.0   log    red   22.0    484.0\n3     2.0    22.0   log    red   22.0    484.0\n4     1.0     NaN  None   blue    NaN      4.0\n5     1.0     NaN  None   blue    NaN      4.0\n6     2.0    90.0     2   blue    2.0      4.0\n7     2.0     NaN  None  green    NaN   6561.0\n8     2.0     NaN  None   None    NaN   6561.0\n9     2.0     NaN  text   None    NaN   6561.0\n10    2.0     NaN  text   blue    NaN   6561.0\n11    2.0     NaN   log    red    NaN   6561.0\n12    2.0     NaN   log    red    NaN   6561.0\n13    2.0     NaN   csv    red    NaN   6561.0\n14    8.0    81.0   csv    red   81.0   6561.0\n15    9.0    92.0   csv    red   92.0   8464.0\n16   10.0   102.0   log    red  102.0  10404.0",
      "text/html": "<div>\n<style scoped>\n    .dataframe tbody tr th:only-of-type {\n        vertical-align: middle;\n    }\n\n    .dataframe tbody tr th {\n        vertical-align: top;\n    }\n\n    .dataframe thead th {\n        text-align: right;\n    }\n</style>\n<table border=\"1\" class=\"dataframe\">\n  <thead>\n    <tr style=\"text-align: right;\">\n      <th></th>\n      <th>first</th>\n      <th>second</th>\n      <th>third</th>\n      <th>fourth</th>\n      <th>fifth</th>\n      <th>sixth</th>\n    </tr>\n  </thead>\n  <tbody>\n    <tr>\n      <th>0</th>\n      <td>1.0</td>\n      <td>10.0</td>\n      <td>log</td>\n      <td>blue</td>\n      <td>10.0</td>\n      <td>100.0</td>\n    </tr>\n    <tr>\n      <th>1</th>\n      <td>2.0</td>\n      <td>21.0</td>\n      <td>text</td>\n      <td>green</td>\n      <td>21.0</td>\n      <td>441.0</td>\n    </tr>\n    <tr>\n      <th>2</th>\n      <td>2.0</td>\n      <td>22.0</td>\n      <td>log</td>\n      <td>red</td>\n      <td>22.0</td>\n      <td>484.0</td>\n    </tr>\n    <tr>\n      <th>3</th>\n      <td>2.0</td>\n      <td>22.0</td>\n      <td>log</td>\n      <td>red</td>\n      <td>22.0</td>\n      <td>484.0</td>\n    </tr>\n    <tr>\n      <th>4</th>\n      <td>1.0</td>\n      <td>NaN</td>\n      <td>None</td>\n      <td>blue</td>\n      <td>NaN</td>\n      <td>4.0</td>\n    </tr>\n    <tr>\n      <th>5</th>\n      <td>1.0</td>\n      <td>NaN</td>\n      <td>None</td>\n      <td>blue</td>\n      <td>NaN</td>\n      <td>4.0</td>\n    </tr>\n    <tr>\n      <th>6</th>\n      <td>2.0</td>\n      <td>90.0</td>\n      <td>2</td>\n      <td>blue</td>\n      <td>2.0</td>\n      <td>4.0</td>\n    </tr>\n    <tr>\n      <th>7</th>\n      <td>2.0</td>\n      <td>NaN</td>\n      <td>None</td>\n      <td>green</td>\n      <td>NaN</td>\n      <td>6561.0</td>\n    </tr>\n    <tr>\n      <th>8</th>\n      <td>2.0</td>\n      <td>NaN</td>\n      <td>None</td>\n      <td>None</td>\n      <td>NaN</td>\n      <td>6561.0</td>\n    </tr>\n    <tr>\n      <th>9</th>\n      <td>2.0</td>\n      <td>NaN</td>\n      <td>text</td>\n      <td>None</td>\n      <td>NaN</td>\n      <td>6561.0</td>\n    </tr>\n    <tr>\n      <th>10</th>\n      <td>2.0</td>\n      <td>NaN</td>\n      <td>text</td>\n      <td>blue</td>\n      <td>NaN</td>\n      <td>6561.0</td>\n    </tr>\n    <tr>\n      <th>11</th>\n      <td>2.0</td>\n      <td>NaN</td>\n      <td>log</td>\n      <td>red</td>\n      <td>NaN</td>\n      <td>6561.0</td>\n    </tr>\n    <tr>\n      <th>12</th>\n      <td>2.0</td>\n      <td>NaN</td>\n      <td>log</td>\n      <td>red</td>\n      <td>NaN</td>\n      <td>6561.0</td>\n    </tr>\n    <tr>\n      <th>13</th>\n      <td>2.0</td>\n      <td>NaN</td>\n      <td>csv</td>\n      <td>red</td>\n      <td>NaN</td>\n      <td>6561.0</td>\n    </tr>\n    <tr>\n      <th>14</th>\n      <td>8.0</td>\n      <td>81.0</td>\n      <td>csv</td>\n      <td>red</td>\n      <td>81.0</td>\n      <td>6561.0</td>\n    </tr>\n    <tr>\n      <th>15</th>\n      <td>9.0</td>\n      <td>92.0</td>\n      <td>csv</td>\n      <td>red</td>\n      <td>92.0</td>\n      <td>8464.0</td>\n    </tr>\n    <tr>\n      <th>16</th>\n      <td>10.0</td>\n      <td>102.0</td>\n      <td>log</td>\n      <td>red</td>\n      <td>102.0</td>\n      <td>10404.0</td>\n    </tr>\n  </tbody>\n</table>\n</div>"
     },
     "metadata": {},
     "execution_count": 86
    }
   ],
   "source": [
    "# ITERATE OVER SERIES AND DO SIMPLE REPLACEMENT\n",
    "# PUSH THE NEW VALUES BACK INTO THE SERIES\n",
    "new_vals = []\n",
    "for i,t in df[\"second\"].iteritems():\n",
    "    if t == 2.0:\n",
    "        t = 90.00\n",
    "    new_vals.append(t)\n",
    "\n",
    "df[\"second\"] = new_vals\n",
    "df"
   ]
  },
  {
   "cell_type": "code",
   "execution_count": 87,
   "metadata": {},
   "outputs": [
    {
     "output_type": "execute_result",
     "data": {
      "text/plain": "   first  second third fourth  fifth  sixth\n0    1.0    10.0   log   blue   10.0  100.0\n1    2.0    21.0  text  green   21.0  441.0\n2    2.0    22.0   log    red   22.0  484.0\n3    2.0    22.0   log    red   22.0  484.0",
      "text/html": "<div>\n<style scoped>\n    .dataframe tbody tr th:only-of-type {\n        vertical-align: middle;\n    }\n\n    .dataframe tbody tr th {\n        vertical-align: top;\n    }\n\n    .dataframe thead th {\n        text-align: right;\n    }\n</style>\n<table border=\"1\" class=\"dataframe\">\n  <thead>\n    <tr style=\"text-align: right;\">\n      <th></th>\n      <th>first</th>\n      <th>second</th>\n      <th>third</th>\n      <th>fourth</th>\n      <th>fifth</th>\n      <th>sixth</th>\n    </tr>\n  </thead>\n  <tbody>\n    <tr>\n      <th>0</th>\n      <td>1.0</td>\n      <td>10.0</td>\n      <td>log</td>\n      <td>blue</td>\n      <td>10.0</td>\n      <td>100.0</td>\n    </tr>\n    <tr>\n      <th>1</th>\n      <td>2.0</td>\n      <td>21.0</td>\n      <td>text</td>\n      <td>green</td>\n      <td>21.0</td>\n      <td>441.0</td>\n    </tr>\n    <tr>\n      <th>2</th>\n      <td>2.0</td>\n      <td>22.0</td>\n      <td>log</td>\n      <td>red</td>\n      <td>22.0</td>\n      <td>484.0</td>\n    </tr>\n    <tr>\n      <th>3</th>\n      <td>2.0</td>\n      <td>22.0</td>\n      <td>log</td>\n      <td>red</td>\n      <td>22.0</td>\n      <td>484.0</td>\n    </tr>\n  </tbody>\n</table>\n</div>"
     },
     "metadata": {},
     "execution_count": 87
    }
   ],
   "source": [
    "# GRAB A SHORT SUBSET\n",
    "df_subset_raw = df.iloc[0:4,0:6]\n",
    "df_subset_raw\n"
   ]
  },
  {
   "cell_type": "code",
   "execution_count": 88,
   "metadata": {},
   "outputs": [
    {
     "output_type": "execute_result",
     "data": {
      "text/plain": "   first  second  fifth  sixth attribute values\n0    1.0    10.0   10.0  100.0     third    log\n1    2.0    21.0   21.0  441.0     third   text\n2    2.0    22.0   22.0  484.0     third    log\n3    2.0    22.0   22.0  484.0     third    log\n4    1.0    10.0   10.0  100.0    fourth   blue\n5    2.0    21.0   21.0  441.0    fourth  green\n6    2.0    22.0   22.0  484.0    fourth    red\n7    2.0    22.0   22.0  484.0    fourth    red",
      "text/html": "<div>\n<style scoped>\n    .dataframe tbody tr th:only-of-type {\n        vertical-align: middle;\n    }\n\n    .dataframe tbody tr th {\n        vertical-align: top;\n    }\n\n    .dataframe thead th {\n        text-align: right;\n    }\n</style>\n<table border=\"1\" class=\"dataframe\">\n  <thead>\n    <tr style=\"text-align: right;\">\n      <th></th>\n      <th>first</th>\n      <th>second</th>\n      <th>fifth</th>\n      <th>sixth</th>\n      <th>attribute</th>\n      <th>values</th>\n    </tr>\n  </thead>\n  <tbody>\n    <tr>\n      <th>0</th>\n      <td>1.0</td>\n      <td>10.0</td>\n      <td>10.0</td>\n      <td>100.0</td>\n      <td>third</td>\n      <td>log</td>\n    </tr>\n    <tr>\n      <th>1</th>\n      <td>2.0</td>\n      <td>21.0</td>\n      <td>21.0</td>\n      <td>441.0</td>\n      <td>third</td>\n      <td>text</td>\n    </tr>\n    <tr>\n      <th>2</th>\n      <td>2.0</td>\n      <td>22.0</td>\n      <td>22.0</td>\n      <td>484.0</td>\n      <td>third</td>\n      <td>log</td>\n    </tr>\n    <tr>\n      <th>3</th>\n      <td>2.0</td>\n      <td>22.0</td>\n      <td>22.0</td>\n      <td>484.0</td>\n      <td>third</td>\n      <td>log</td>\n    </tr>\n    <tr>\n      <th>4</th>\n      <td>1.0</td>\n      <td>10.0</td>\n      <td>10.0</td>\n      <td>100.0</td>\n      <td>fourth</td>\n      <td>blue</td>\n    </tr>\n    <tr>\n      <th>5</th>\n      <td>2.0</td>\n      <td>21.0</td>\n      <td>21.0</td>\n      <td>441.0</td>\n      <td>fourth</td>\n      <td>green</td>\n    </tr>\n    <tr>\n      <th>6</th>\n      <td>2.0</td>\n      <td>22.0</td>\n      <td>22.0</td>\n      <td>484.0</td>\n      <td>fourth</td>\n      <td>red</td>\n    </tr>\n    <tr>\n      <th>7</th>\n      <td>2.0</td>\n      <td>22.0</td>\n      <td>22.0</td>\n      <td>484.0</td>\n      <td>fourth</td>\n      <td>red</td>\n    </tr>\n  </tbody>\n</table>\n</div>"
     },
     "metadata": {},
     "execution_count": 88
    }
   ],
   "source": [
    "static = [ \"first\", \"second\", \"fifth\", \"sixth\" ]\n",
    "df_subset_raw.melt(id_vars=static, var_name='attribute', value_name='values')"
   ]
  },
  {
   "cell_type": "code",
   "execution_count": null,
   "metadata": {},
   "outputs": [],
   "source": []
  }
 ]
}